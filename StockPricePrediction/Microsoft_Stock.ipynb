{
  "cells": [
    {
      "cell_type": "code",
      "execution_count": 1,
      "metadata": {},
      "outputs": [
        {
          "name": "stderr",
          "output_type": "stream",
          "text": [
            "c:\\Users\\victory tech\\anaconda3\\Lib\\site-packages\\pandas\\core\\arrays\\masked.py:61: UserWarning: Pandas requires version '1.3.6' or newer of 'bottleneck' (version '1.3.5' currently installed).\n",
            "  from pandas.core import (\n"
          ]
        }
      ],
      "source": [
        "import pandas as pd\n",
        "import datetime"
      ]
    },
    {
      "cell_type": "code",
      "execution_count": 2,
      "metadata": {
        "id": "pU0yTCuZIg2Q"
      },
      "outputs": [
        {
          "data": {
            "text/html": [
              "<div>\n",
              "<style scoped>\n",
              "    .dataframe tbody tr th:only-of-type {\n",
              "        vertical-align: middle;\n",
              "    }\n",
              "\n",
              "    .dataframe tbody tr th {\n",
              "        vertical-align: top;\n",
              "    }\n",
              "\n",
              "    .dataframe thead th {\n",
              "        text-align: right;\n",
              "    }\n",
              "</style>\n",
              "<table border=\"1\" class=\"dataframe\">\n",
              "  <thead>\n",
              "    <tr style=\"text-align: right;\">\n",
              "      <th></th>\n",
              "      <th>Date</th>\n",
              "      <th>Open</th>\n",
              "      <th>High</th>\n",
              "      <th>Low</th>\n",
              "      <th>Close</th>\n",
              "      <th>Volume</th>\n",
              "    </tr>\n",
              "  </thead>\n",
              "  <tbody>\n",
              "    <tr>\n",
              "      <th>0</th>\n",
              "      <td>1986-03-13 00:00:00-05:00</td>\n",
              "      <td>0.054485</td>\n",
              "      <td>0.062498</td>\n",
              "      <td>0.054485</td>\n",
              "      <td>0.059827</td>\n",
              "      <td>1031788800</td>\n",
              "    </tr>\n",
              "    <tr>\n",
              "      <th>1</th>\n",
              "      <td>1986-03-14 00:00:00-05:00</td>\n",
              "      <td>0.059827</td>\n",
              "      <td>0.063032</td>\n",
              "      <td>0.059827</td>\n",
              "      <td>0.061963</td>\n",
              "      <td>308160000</td>\n",
              "    </tr>\n",
              "    <tr>\n",
              "      <th>2</th>\n",
              "      <td>1986-03-17 00:00:00-05:00</td>\n",
              "      <td>0.061963</td>\n",
              "      <td>0.063566</td>\n",
              "      <td>0.061963</td>\n",
              "      <td>0.063032</td>\n",
              "      <td>133171200</td>\n",
              "    </tr>\n",
              "    <tr>\n",
              "      <th>3</th>\n",
              "      <td>1986-03-18 00:00:00-05:00</td>\n",
              "      <td>0.063032</td>\n",
              "      <td>0.063566</td>\n",
              "      <td>0.060895</td>\n",
              "      <td>0.061429</td>\n",
              "      <td>67766400</td>\n",
              "    </tr>\n",
              "    <tr>\n",
              "      <th>4</th>\n",
              "      <td>1986-03-19 00:00:00-05:00</td>\n",
              "      <td>0.061429</td>\n",
              "      <td>0.061963</td>\n",
              "      <td>0.059827</td>\n",
              "      <td>0.060361</td>\n",
              "      <td>47894400</td>\n",
              "    </tr>\n",
              "    <tr>\n",
              "      <th>...</th>\n",
              "      <td>...</td>\n",
              "      <td>...</td>\n",
              "      <td>...</td>\n",
              "      <td>...</td>\n",
              "      <td>...</td>\n",
              "      <td>...</td>\n",
              "    </tr>\n",
              "    <tr>\n",
              "      <th>9753</th>\n",
              "      <td>2024-11-22 00:00:00-05:00</td>\n",
              "      <td>411.369995</td>\n",
              "      <td>417.399994</td>\n",
              "      <td>411.059998</td>\n",
              "      <td>417.000000</td>\n",
              "      <td>24814600</td>\n",
              "    </tr>\n",
              "    <tr>\n",
              "      <th>9754</th>\n",
              "      <td>2024-11-25 00:00:00-05:00</td>\n",
              "      <td>418.380005</td>\n",
              "      <td>421.079987</td>\n",
              "      <td>414.850006</td>\n",
              "      <td>418.790008</td>\n",
              "      <td>27691100</td>\n",
              "    </tr>\n",
              "    <tr>\n",
              "      <th>9755</th>\n",
              "      <td>2024-11-26 00:00:00-05:00</td>\n",
              "      <td>419.589996</td>\n",
              "      <td>429.040008</td>\n",
              "      <td>418.850006</td>\n",
              "      <td>427.989990</td>\n",
              "      <td>23458900</td>\n",
              "    </tr>\n",
              "    <tr>\n",
              "      <th>9756</th>\n",
              "      <td>2024-11-27 00:00:00-05:00</td>\n",
              "      <td>425.109985</td>\n",
              "      <td>427.230011</td>\n",
              "      <td>422.019989</td>\n",
              "      <td>422.989990</td>\n",
              "      <td>18332400</td>\n",
              "    </tr>\n",
              "    <tr>\n",
              "      <th>9757</th>\n",
              "      <td>2024-11-29 00:00:00-05:00</td>\n",
              "      <td>420.089996</td>\n",
              "      <td>424.880005</td>\n",
              "      <td>417.799988</td>\n",
              "      <td>423.459992</td>\n",
              "      <td>16271900</td>\n",
              "    </tr>\n",
              "  </tbody>\n",
              "</table>\n",
              "<p>9758 rows × 6 columns</p>\n",
              "</div>"
            ],
            "text/plain": [
              "                           Date        Open        High         Low  \\\n",
              "0     1986-03-13 00:00:00-05:00    0.054485    0.062498    0.054485   \n",
              "1     1986-03-14 00:00:00-05:00    0.059827    0.063032    0.059827   \n",
              "2     1986-03-17 00:00:00-05:00    0.061963    0.063566    0.061963   \n",
              "3     1986-03-18 00:00:00-05:00    0.063032    0.063566    0.060895   \n",
              "4     1986-03-19 00:00:00-05:00    0.061429    0.061963    0.059827   \n",
              "...                         ...         ...         ...         ...   \n",
              "9753  2024-11-22 00:00:00-05:00  411.369995  417.399994  411.059998   \n",
              "9754  2024-11-25 00:00:00-05:00  418.380005  421.079987  414.850006   \n",
              "9755  2024-11-26 00:00:00-05:00  419.589996  429.040008  418.850006   \n",
              "9756  2024-11-27 00:00:00-05:00  425.109985  427.230011  422.019989   \n",
              "9757  2024-11-29 00:00:00-05:00  420.089996  424.880005  417.799988   \n",
              "\n",
              "           Close      Volume  \n",
              "0       0.059827  1031788800  \n",
              "1       0.061963   308160000  \n",
              "2       0.063032   133171200  \n",
              "3       0.061429    67766400  \n",
              "4       0.060361    47894400  \n",
              "...          ...         ...  \n",
              "9753  417.000000    24814600  \n",
              "9754  418.790008    27691100  \n",
              "9755  427.989990    23458900  \n",
              "9756  422.989990    18332400  \n",
              "9757  423.459992    16271900  \n",
              "\n",
              "[9758 rows x 6 columns]"
            ]
          },
          "execution_count": 2,
          "metadata": {},
          "output_type": "execute_result"
        }
      ],
      "source": [
        "df = pd.read_csv('MSFT.csv')\n",
        "df"
      ]
    },
    {
      "cell_type": "code",
      "execution_count": 3,
      "metadata": {
        "id": "kpw-fCzOIhG0"
      },
      "outputs": [
        {
          "data": {
            "text/html": [
              "<div>\n",
              "<style scoped>\n",
              "    .dataframe tbody tr th:only-of-type {\n",
              "        vertical-align: middle;\n",
              "    }\n",
              "\n",
              "    .dataframe tbody tr th {\n",
              "        vertical-align: top;\n",
              "    }\n",
              "\n",
              "    .dataframe thead th {\n",
              "        text-align: right;\n",
              "    }\n",
              "</style>\n",
              "<table border=\"1\" class=\"dataframe\">\n",
              "  <thead>\n",
              "    <tr style=\"text-align: right;\">\n",
              "      <th></th>\n",
              "      <th>Date</th>\n",
              "      <th>Close</th>\n",
              "    </tr>\n",
              "  </thead>\n",
              "  <tbody>\n",
              "    <tr>\n",
              "      <th>0</th>\n",
              "      <td>1986-03-13 00:00:00-05:00</td>\n",
              "      <td>0.059827</td>\n",
              "    </tr>\n",
              "    <tr>\n",
              "      <th>1</th>\n",
              "      <td>1986-03-14 00:00:00-05:00</td>\n",
              "      <td>0.061963</td>\n",
              "    </tr>\n",
              "    <tr>\n",
              "      <th>2</th>\n",
              "      <td>1986-03-17 00:00:00-05:00</td>\n",
              "      <td>0.063032</td>\n",
              "    </tr>\n",
              "    <tr>\n",
              "      <th>3</th>\n",
              "      <td>1986-03-18 00:00:00-05:00</td>\n",
              "      <td>0.061429</td>\n",
              "    </tr>\n",
              "    <tr>\n",
              "      <th>4</th>\n",
              "      <td>1986-03-19 00:00:00-05:00</td>\n",
              "      <td>0.060361</td>\n",
              "    </tr>\n",
              "    <tr>\n",
              "      <th>...</th>\n",
              "      <td>...</td>\n",
              "      <td>...</td>\n",
              "    </tr>\n",
              "    <tr>\n",
              "      <th>9753</th>\n",
              "      <td>2024-11-22 00:00:00-05:00</td>\n",
              "      <td>417.000000</td>\n",
              "    </tr>\n",
              "    <tr>\n",
              "      <th>9754</th>\n",
              "      <td>2024-11-25 00:00:00-05:00</td>\n",
              "      <td>418.790008</td>\n",
              "    </tr>\n",
              "    <tr>\n",
              "      <th>9755</th>\n",
              "      <td>2024-11-26 00:00:00-05:00</td>\n",
              "      <td>427.989990</td>\n",
              "    </tr>\n",
              "    <tr>\n",
              "      <th>9756</th>\n",
              "      <td>2024-11-27 00:00:00-05:00</td>\n",
              "      <td>422.989990</td>\n",
              "    </tr>\n",
              "    <tr>\n",
              "      <th>9757</th>\n",
              "      <td>2024-11-29 00:00:00-05:00</td>\n",
              "      <td>423.459992</td>\n",
              "    </tr>\n",
              "  </tbody>\n",
              "</table>\n",
              "<p>9758 rows × 2 columns</p>\n",
              "</div>"
            ],
            "text/plain": [
              "                           Date       Close\n",
              "0     1986-03-13 00:00:00-05:00    0.059827\n",
              "1     1986-03-14 00:00:00-05:00    0.061963\n",
              "2     1986-03-17 00:00:00-05:00    0.063032\n",
              "3     1986-03-18 00:00:00-05:00    0.061429\n",
              "4     1986-03-19 00:00:00-05:00    0.060361\n",
              "...                         ...         ...\n",
              "9753  2024-11-22 00:00:00-05:00  417.000000\n",
              "9754  2024-11-25 00:00:00-05:00  418.790008\n",
              "9755  2024-11-26 00:00:00-05:00  427.989990\n",
              "9756  2024-11-27 00:00:00-05:00  422.989990\n",
              "9757  2024-11-29 00:00:00-05:00  423.459992\n",
              "\n",
              "[9758 rows x 2 columns]"
            ]
          },
          "execution_count": 3,
          "metadata": {},
          "output_type": "execute_result"
        }
      ],
      "source": [
        "df = df[['Date', 'Close']]\n",
        "df"
      ]
    },
    {
      "cell_type": "markdown",
      "metadata": {},
      "source": [
        "# Processing Data"
      ]
    },
    {
      "cell_type": "code",
      "execution_count": 4,
      "metadata": {},
      "outputs": [],
      "source": [
        "def string_to_date(date_string):\n",
        "    date_part = date_string.split(' ')[0]   \n",
        "    split = date_part.split('-')\n",
        "    year, month, day = int(split[0]), int(split[1]), int(split[2])\n",
        "    return datetime.datetime(year=year, month=month, day=day)\n"
      ]
    },
    {
      "cell_type": "code",
      "execution_count": 5,
      "metadata": {},
      "outputs": [
        {
          "name": "stderr",
          "output_type": "stream",
          "text": [
            "C:\\Users\\victory tech\\AppData\\Local\\Temp\\ipykernel_22684\\2012105700.py:1: SettingWithCopyWarning: \n",
            "A value is trying to be set on a copy of a slice from a DataFrame.\n",
            "Try using .loc[row_indexer,col_indexer] = value instead\n",
            "\n",
            "See the caveats in the documentation: https://pandas.pydata.org/pandas-docs/stable/user_guide/indexing.html#returning-a-view-versus-a-copy\n",
            "  df['Date'] = df['Date'].apply(string_to_date)\n"
          ]
        },
        {
          "data": {
            "text/plain": [
              "0      1986-03-13\n",
              "1      1986-03-14\n",
              "2      1986-03-17\n",
              "3      1986-03-18\n",
              "4      1986-03-19\n",
              "          ...    \n",
              "9753   2024-11-22\n",
              "9754   2024-11-25\n",
              "9755   2024-11-26\n",
              "9756   2024-11-27\n",
              "9757   2024-11-29\n",
              "Name: Date, Length: 9758, dtype: datetime64[ns]"
            ]
          },
          "execution_count": 5,
          "metadata": {},
          "output_type": "execute_result"
        }
      ],
      "source": [
        "df['Date'] = df['Date'].apply(string_to_date)\n",
        "df['Date']"
      ]
    },
    {
      "cell_type": "code",
      "execution_count": null,
      "metadata": {},
      "outputs": [],
      "source": []
    },
    {
      "cell_type": "code",
      "execution_count": null,
      "metadata": {},
      "outputs": [],
      "source": []
    },
    {
      "cell_type": "code",
      "execution_count": null,
      "metadata": {},
      "outputs": [],
      "source": []
    },
    {
      "cell_type": "code",
      "execution_count": null,
      "metadata": {},
      "outputs": [],
      "source": []
    },
    {
      "cell_type": "code",
      "execution_count": null,
      "metadata": {},
      "outputs": [],
      "source": []
    },
    {
      "cell_type": "code",
      "execution_count": null,
      "metadata": {},
      "outputs": [],
      "source": []
    }
  ],
  "metadata": {
    "colab": {
      "provenance": []
    },
    "kernelspec": {
      "display_name": "base",
      "language": "python",
      "name": "python3"
    },
    "language_info": {
      "codemirror_mode": {
        "name": "ipython",
        "version": 3
      },
      "file_extension": ".py",
      "mimetype": "text/x-python",
      "name": "python",
      "nbconvert_exporter": "python",
      "pygments_lexer": "ipython3",
      "version": "3.11.5"
    }
  },
  "nbformat": 4,
  "nbformat_minor": 0
}
